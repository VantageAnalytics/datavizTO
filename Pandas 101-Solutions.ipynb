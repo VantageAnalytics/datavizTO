{
 "metadata": {
  "name": "Pandas 101-Solutions"
 },
 "nbformat": 3,
 "nbformat_minor": 0,
 "worksheets": [
  {
   "cells": [
    {
     "cell_type": "code",
     "collapsed": false,
     "input": "import pandas as pd\nimport numpy as np\nfrom subprocess import call\n",
     "language": "python",
     "metadata": {
      "slideshow": {
       "slide_type": "slide"
      }
     },
     "outputs": [],
     "prompt_number": 1
    },
    {
     "cell_type": "code",
     "collapsed": false,
     "input": "call([\"wget\", \"https://raw.github.com/VantageAnalytics/datavizTO/master/facebook.csv\"])\ndataframe = pd.read_csv('facebook.csv', index_col=0)\ndataframe.shape\n",
     "language": "python",
     "metadata": {},
     "outputs": [
      {
       "metadata": {},
       "output_type": "pyout",
       "prompt_number": 2,
       "text": "(511, 13)"
      }
     ],
     "prompt_number": 2
    },
    {
     "cell_type": "code",
     "collapsed": false,
     "input": "dataframe",
     "language": "python",
     "metadata": {},
     "outputs": [
      {
       "html": "<pre>\n&lt;class 'pandas.core.frame.DataFrame'&gt;\nInt64Index: 511 entries, 103 to 558\nData columns (total 13 columns):\nfirst_name                        511  non-null values\nbirthday                          511  non-null values\ngender                            511  non-null values\nlocation                          407  non-null values\nrelationship_status               511  non-null values\nfb_groups                         511  non-null values\nfb_maybe_single_female_friends    511  non-null values\nfb_maybe_single_male_friends      511  non-null values\nfb_movies                         511  non-null values\nfb_music                          511  non-null values\nfb_schools                        511  non-null values\nfb_single_female_friends          511  non-null values\nfb_single_male_friends            511  non-null values\ndtypes: int64(9), object(4)\n</pre>",
       "metadata": {},
       "output_type": "pyout",
       "prompt_number": 3,
       "text": "<class 'pandas.core.frame.DataFrame'>\nInt64Index: 511 entries, 103 to 558\nData columns (total 13 columns):\nfirst_name                        511  non-null values\nbirthday                          511  non-null values\ngender                            511  non-null values\nlocation                          407  non-null values\nrelationship_status               511  non-null values\nfb_groups                         511  non-null values\nfb_maybe_single_female_friends    511  non-null values\nfb_maybe_single_male_friends      511  non-null values\nfb_movies                         511  non-null values\nfb_music                          511  non-null values\nfb_schools                        511  non-null values\nfb_single_female_friends          511  non-null values\nfb_single_male_friends            511  non-null values\ndtypes: int64(9), object(4)"
      }
     ],
     "prompt_number": 3
    },
    {
     "cell_type": "code",
     "collapsed": false,
     "input": "dataframe.describe()",
     "language": "python",
     "metadata": {},
     "outputs": [
      {
       "html": "<div style=\"max-height:1000px;max-width:1500px;overflow:auto;\">\n<table border=\"1\" class=\"dataframe\">\n  <thead>\n    <tr style=\"text-align: right;\">\n      <th></th>\n      <th>gender</th>\n      <th>fb_groups</th>\n      <th>fb_maybe_single_female_friends</th>\n      <th>fb_maybe_single_male_friends</th>\n      <th>fb_movies</th>\n      <th>fb_music</th>\n      <th>fb_schools</th>\n      <th>fb_single_female_friends</th>\n      <th>fb_single_male_friends</th>\n    </tr>\n  </thead>\n  <tbody>\n    <tr>\n      <th>count</th>\n      <td> 511.000000</td>\n      <td> 511.000000</td>\n      <td> 511.000000</td>\n      <td> 511.000000</td>\n      <td> 511.000000</td>\n      <td> 511.000000</td>\n      <td> 511.000000</td>\n      <td> 511.000000</td>\n      <td> 511.000000</td>\n    </tr>\n    <tr>\n      <th>mean</th>\n      <td>   1.383562</td>\n      <td>   9.684932</td>\n      <td>  28.189824</td>\n      <td>  29.346380</td>\n      <td>   3.545988</td>\n      <td>   7.272016</td>\n      <td>   1.577299</td>\n      <td>  37.455969</td>\n      <td>  65.720157</td>\n    </tr>\n    <tr>\n      <th>std</th>\n      <td>   0.486730</td>\n      <td>  16.397649</td>\n      <td>  57.147600</td>\n      <td>  58.807324</td>\n      <td>  15.058622</td>\n      <td>  17.536807</td>\n      <td>   1.395157</td>\n      <td>  45.368270</td>\n      <td>  74.627795</td>\n    </tr>\n    <tr>\n      <th>min</th>\n      <td>   1.000000</td>\n      <td>   0.000000</td>\n      <td>   0.000000</td>\n      <td>   0.000000</td>\n      <td>   0.000000</td>\n      <td>   0.000000</td>\n      <td>   0.000000</td>\n      <td>   0.000000</td>\n      <td>   0.000000</td>\n    </tr>\n    <tr>\n      <th>25%</th>\n      <td>   1.000000</td>\n      <td>   0.000000</td>\n      <td>   0.000000</td>\n      <td>   0.000000</td>\n      <td>   0.000000</td>\n      <td>   0.000000</td>\n      <td>   0.000000</td>\n      <td>   4.500000</td>\n      <td>   6.500000</td>\n    </tr>\n    <tr>\n      <th>50%</th>\n      <td>   1.000000</td>\n      <td>   1.000000</td>\n      <td>   0.000000</td>\n      <td>   0.000000</td>\n      <td>   0.000000</td>\n      <td>   0.000000</td>\n      <td>   2.000000</td>\n      <td>  22.000000</td>\n      <td>  39.000000</td>\n    </tr>\n    <tr>\n      <th>75%</th>\n      <td>   2.000000</td>\n      <td>  13.000000</td>\n      <td>  30.500000</td>\n      <td>  28.000000</td>\n      <td>   2.000000</td>\n      <td>   9.500000</td>\n      <td>   2.000000</td>\n      <td>  55.000000</td>\n      <td> 104.000000</td>\n    </tr>\n    <tr>\n      <th>max</th>\n      <td>   2.000000</td>\n      <td> 140.000000</td>\n      <td> 323.000000</td>\n      <td> 293.000000</td>\n      <td> 291.000000</td>\n      <td> 300.000000</td>\n      <td>  10.000000</td>\n      <td> 302.000000</td>\n      <td> 409.000000</td>\n    </tr>\n  </tbody>\n</table>\n</div>",
       "metadata": {},
       "output_type": "pyout",
       "prompt_number": 4,
       "text": "           gender   fb_groups  fb_maybe_single_female_friends  \\\ncount  511.000000  511.000000                      511.000000   \nmean     1.383562    9.684932                       28.189824   \nstd      0.486730   16.397649                       57.147600   \nmin      1.000000    0.000000                        0.000000   \n25%      1.000000    0.000000                        0.000000   \n50%      1.000000    1.000000                        0.000000   \n75%      2.000000   13.000000                       30.500000   \nmax      2.000000  140.000000                      323.000000   \n\n       fb_maybe_single_male_friends   fb_movies    fb_music  fb_schools  \\\ncount                    511.000000  511.000000  511.000000  511.000000   \nmean                      29.346380    3.545988    7.272016    1.577299   \nstd                       58.807324   15.058622   17.536807    1.395157   \nmin                        0.000000    0.000000    0.000000    0.000000   \n25%                        0.000000    0.000000    0.000000    0.000000   \n50%                        0.000000    0.000000    0.000000    2.000000   \n75%                       28.000000    2.000000    9.500000    2.000000   \nmax                      293.000000  291.000000  300.000000   10.000000   \n\n       fb_single_female_friends  fb_single_male_friends  \ncount                511.000000              511.000000  \nmean                  37.455969               65.720157  \nstd                   45.368270               74.627795  \nmin                    0.000000                0.000000  \n25%                    4.500000                6.500000  \n50%                   22.000000               39.000000  \n75%                   55.000000              104.000000  \nmax                  302.000000              409.000000  "
      }
     ],
     "prompt_number": 4
    },
    {
     "cell_type": "code",
     "collapsed": false,
     "input": "dataframe.head()",
     "language": "python",
     "metadata": {},
     "outputs": [
      {
       "html": "<div style=\"max-height:1000px;max-width:1500px;overflow:auto;\">\n<table border=\"1\" class=\"dataframe\">\n  <thead>\n    <tr style=\"text-align: right;\">\n      <th></th>\n      <th>first_name</th>\n      <th>birthday</th>\n      <th>gender</th>\n      <th>location</th>\n      <th>relationship_status</th>\n      <th>fb_groups</th>\n      <th>fb_maybe_single_female_friends</th>\n      <th>fb_maybe_single_male_friends</th>\n      <th>fb_movies</th>\n      <th>fb_music</th>\n      <th>fb_schools</th>\n      <th>fb_single_female_friends</th>\n      <th>fb_single_male_friends</th>\n    </tr>\n    <tr>\n      <th>user_id</th>\n      <th></th>\n      <th></th>\n      <th></th>\n      <th></th>\n      <th></th>\n      <th></th>\n      <th></th>\n      <th></th>\n      <th></th>\n      <th></th>\n      <th></th>\n      <th></th>\n      <th></th>\n    </tr>\n  </thead>\n  <tbody>\n    <tr>\n      <th>103</th>\n      <td>     Sam</td>\n      <td> 4/19/1993</td>\n      <td> 1</td>\n      <td>                NaN</td>\n      <td> Unknown</td>\n      <td>  4</td>\n      <td> 0</td>\n      <td> 0</td>\n      <td> 1</td>\n      <td>  0</td>\n      <td> 2</td>\n      <td>  50</td>\n      <td> 115</td>\n    </tr>\n    <tr>\n      <th>139</th>\n      <td>   Harry</td>\n      <td> 2/21/1992</td>\n      <td> 1</td>\n      <td>                NaN</td>\n      <td> Unknown</td>\n      <td>  5</td>\n      <td> 0</td>\n      <td> 0</td>\n      <td> 3</td>\n      <td>  3</td>\n      <td> 3</td>\n      <td>  44</td>\n      <td> 123</td>\n    </tr>\n    <tr>\n      <th>400</th>\n      <td>  Miguel</td>\n      <td> 5/31/1981</td>\n      <td> 1</td>\n      <td>   Toronto, Ontario</td>\n      <td> Unknown</td>\n      <td> 13</td>\n      <td> 0</td>\n      <td> 0</td>\n      <td> 1</td>\n      <td> 73</td>\n      <td> 2</td>\n      <td> 140</td>\n      <td>  64</td>\n    </tr>\n    <tr>\n      <th>233</th>\n      <td> Katelyn</td>\n      <td>  2/2/1993</td>\n      <td> 2</td>\n      <td> Kitchener, Ontario</td>\n      <td> Unknown</td>\n      <td>  1</td>\n      <td> 0</td>\n      <td> 0</td>\n      <td> 0</td>\n      <td>  0</td>\n      <td> 1</td>\n      <td>  11</td>\n      <td>   7</td>\n    </tr>\n    <tr>\n      <th>381</th>\n      <td>  Caasho</td>\n      <td>  5/6/2000</td>\n      <td> 2</td>\n      <td>                NaN</td>\n      <td> Unknown</td>\n      <td>  0</td>\n      <td> 0</td>\n      <td> 0</td>\n      <td> 0</td>\n      <td>  1</td>\n      <td> 1</td>\n      <td>   1</td>\n      <td>   2</td>\n    </tr>\n  </tbody>\n</table>\n</div>",
       "metadata": {},
       "output_type": "pyout",
       "prompt_number": 5,
       "text": "        first_name   birthday  gender            location relationship_status  \\\nuser_id                                                                         \n103            Sam  4/19/1993       1                 NaN             Unknown   \n139          Harry  2/21/1992       1                 NaN             Unknown   \n400         Miguel  5/31/1981       1    Toronto, Ontario             Unknown   \n233        Katelyn   2/2/1993       2  Kitchener, Ontario             Unknown   \n381         Caasho   5/6/2000       2                 NaN             Unknown   \n\n         fb_groups  fb_maybe_single_female_friends  \\\nuser_id                                              \n103              4                               0   \n139              5                               0   \n400             13                               0   \n233              1                               0   \n381              0                               0   \n\n         fb_maybe_single_male_friends  fb_movies  fb_music  fb_schools  \\\nuser_id                                                                  \n103                                 0          1         0           2   \n139                                 0          3         3           3   \n400                                 0          1        73           2   \n233                                 0          0         0           1   \n381                                 0          0         1           1   \n\n         fb_single_female_friends  fb_single_male_friends  \nuser_id                                                    \n103                            50                     115  \n139                            44                     123  \n400                           140                      64  \n233                            11                       7  \n381                             1                       2  "
      }
     ],
     "prompt_number": 5
    },
    {
     "cell_type": "code",
     "collapsed": false,
     "input": "dataframe['gender_label'] = dataframe['gender'].astype(str)\n",
     "language": "python",
     "metadata": {},
     "outputs": [],
     "prompt_number": 6
    },
    {
     "cell_type": "code",
     "collapsed": false,
     "input": "dataframe['gender_label'] = dataframe['gender_label'].replace({'1':'Male','2':'Female'})",
     "language": "python",
     "metadata": {},
     "outputs": [],
     "prompt_number": 7
    },
    {
     "cell_type": "code",
     "collapsed": false,
     "input": "dataframe['is_toronto'] = dataframe['location'] == 'Toronto, Ontario'\n",
     "language": "python",
     "metadata": {},
     "outputs": [],
     "prompt_number": 8
    },
    {
     "cell_type": "code",
     "collapsed": false,
     "input": "dataframe['is_toronto']",
     "language": "python",
     "metadata": {},
     "outputs": [
      {
       "metadata": {},
       "output_type": "pyout",
       "prompt_number": 9,
       "text": "user_id\n103        False\n139        False\n400         True\n233        False\n381        False\n39          True\n40          True\n380        False\n565         True\n61          True\n476        False\n246         True\n4           True\n95          True\n153        False\n...\n561        False\n554        False\n559         True\n557         True\n556         True\n563        False\n589         True\n560         True\n562         True\n590        False\n601         True\n555         True\n629         True\n594        False\n558        False\nName: is_toronto, Length: 511, dtype: bool"
      }
     ],
     "prompt_number": 9
    },
    {
     "cell_type": "code",
     "collapsed": false,
     "input": "dataframe.head()",
     "language": "python",
     "metadata": {},
     "outputs": [
      {
       "html": "<div style=\"max-height:1000px;max-width:1500px;overflow:auto;\">\n<table border=\"1\" class=\"dataframe\">\n  <thead>\n    <tr style=\"text-align: right;\">\n      <th></th>\n      <th>first_name</th>\n      <th>birthday</th>\n      <th>gender</th>\n      <th>location</th>\n      <th>relationship_status</th>\n      <th>fb_groups</th>\n      <th>fb_maybe_single_female_friends</th>\n      <th>fb_maybe_single_male_friends</th>\n      <th>fb_movies</th>\n      <th>fb_music</th>\n      <th>fb_schools</th>\n      <th>fb_single_female_friends</th>\n      <th>fb_single_male_friends</th>\n      <th>gender_label</th>\n      <th>is_toronto</th>\n    </tr>\n    <tr>\n      <th>user_id</th>\n      <th></th>\n      <th></th>\n      <th></th>\n      <th></th>\n      <th></th>\n      <th></th>\n      <th></th>\n      <th></th>\n      <th></th>\n      <th></th>\n      <th></th>\n      <th></th>\n      <th></th>\n      <th></th>\n      <th></th>\n    </tr>\n  </thead>\n  <tbody>\n    <tr>\n      <th>103</th>\n      <td>     Sam</td>\n      <td> 4/19/1993</td>\n      <td> 1</td>\n      <td>                NaN</td>\n      <td> Unknown</td>\n      <td>  4</td>\n      <td> 0</td>\n      <td> 0</td>\n      <td> 1</td>\n      <td>  0</td>\n      <td> 2</td>\n      <td>  50</td>\n      <td> 115</td>\n      <td>   Male</td>\n      <td> False</td>\n    </tr>\n    <tr>\n      <th>139</th>\n      <td>   Harry</td>\n      <td> 2/21/1992</td>\n      <td> 1</td>\n      <td>                NaN</td>\n      <td> Unknown</td>\n      <td>  5</td>\n      <td> 0</td>\n      <td> 0</td>\n      <td> 3</td>\n      <td>  3</td>\n      <td> 3</td>\n      <td>  44</td>\n      <td> 123</td>\n      <td>   Male</td>\n      <td> False</td>\n    </tr>\n    <tr>\n      <th>400</th>\n      <td>  Miguel</td>\n      <td> 5/31/1981</td>\n      <td> 1</td>\n      <td>   Toronto, Ontario</td>\n      <td> Unknown</td>\n      <td> 13</td>\n      <td> 0</td>\n      <td> 0</td>\n      <td> 1</td>\n      <td> 73</td>\n      <td> 2</td>\n      <td> 140</td>\n      <td>  64</td>\n      <td>   Male</td>\n      <td>  True</td>\n    </tr>\n    <tr>\n      <th>233</th>\n      <td> Katelyn</td>\n      <td>  2/2/1993</td>\n      <td> 2</td>\n      <td> Kitchener, Ontario</td>\n      <td> Unknown</td>\n      <td>  1</td>\n      <td> 0</td>\n      <td> 0</td>\n      <td> 0</td>\n      <td>  0</td>\n      <td> 1</td>\n      <td>  11</td>\n      <td>   7</td>\n      <td> Female</td>\n      <td> False</td>\n    </tr>\n    <tr>\n      <th>381</th>\n      <td>  Caasho</td>\n      <td>  5/6/2000</td>\n      <td> 2</td>\n      <td>                NaN</td>\n      <td> Unknown</td>\n      <td>  0</td>\n      <td> 0</td>\n      <td> 0</td>\n      <td> 0</td>\n      <td>  1</td>\n      <td> 1</td>\n      <td>   1</td>\n      <td>   2</td>\n      <td> Female</td>\n      <td> False</td>\n    </tr>\n  </tbody>\n</table>\n</div>",
       "metadata": {},
       "output_type": "pyout",
       "prompt_number": 10,
       "text": "        first_name   birthday  gender            location relationship_status  \\\nuser_id                                                                         \n103            Sam  4/19/1993       1                 NaN             Unknown   \n139          Harry  2/21/1992       1                 NaN             Unknown   \n400         Miguel  5/31/1981       1    Toronto, Ontario             Unknown   \n233        Katelyn   2/2/1993       2  Kitchener, Ontario             Unknown   \n381         Caasho   5/6/2000       2                 NaN             Unknown   \n\n         fb_groups  fb_maybe_single_female_friends  \\\nuser_id                                              \n103              4                               0   \n139              5                               0   \n400             13                               0   \n233              1                               0   \n381              0                               0   \n\n         fb_maybe_single_male_friends  fb_movies  fb_music  fb_schools  \\\nuser_id                                                                  \n103                                 0          1         0           2   \n139                                 0          3         3           3   \n400                                 0          1        73           2   \n233                                 0          0         0           1   \n381                                 0          0         1           1   \n\n         fb_single_female_friends  fb_single_male_friends gender_label  \\\nuser_id                                                                  \n103                            50                     115         Male   \n139                            44                     123         Male   \n400                           140                      64         Male   \n233                            11                       7       Female   \n381                             1                       2       Female   \n\n        is_toronto  \nuser_id             \n103          False  \n139          False  \n400           True  \n233          False  \n381          False  "
      }
     ],
     "prompt_number": 10
    },
    {
     "cell_type": "code",
     "collapsed": false,
     "input": "len(dataframe)",
     "language": "python",
     "metadata": {},
     "outputs": [
      {
       "metadata": {},
       "output_type": "pyout",
       "prompt_number": 11,
       "text": "511"
      }
     ],
     "prompt_number": 11
    },
    {
     "cell_type": "code",
     "collapsed": false,
     "input": "toronto_df = dataframe[dataframe['is_toronto']]",
     "language": "python",
     "metadata": {},
     "outputs": [],
     "prompt_number": 12
    },
    {
     "cell_type": "code",
     "collapsed": false,
     "input": "len(toronto_df)",
     "language": "python",
     "metadata": {},
     "outputs": [
      {
       "metadata": {},
       "output_type": "pyout",
       "prompt_number": 13,
       "text": "222"
      }
     ],
     "prompt_number": 13
    },
    {
     "cell_type": "code",
     "collapsed": false,
     "input": "grouped = dataframe.groupby('is_toronto')",
     "language": "python",
     "metadata": {},
     "outputs": [],
     "prompt_number": 14
    },
    {
     "cell_type": "code",
     "collapsed": false,
     "input": "len(grouped.groups)",
     "language": "python",
     "metadata": {},
     "outputs": [
      {
       "metadata": {},
       "output_type": "pyout",
       "prompt_number": 15,
       "text": "2"
      }
     ],
     "prompt_number": 15
    },
    {
     "cell_type": "code",
     "collapsed": false,
     "input": "grouped['fb_groups'].mean()",
     "language": "python",
     "metadata": {},
     "outputs": [
      {
       "metadata": {},
       "output_type": "pyout",
       "prompt_number": 16,
       "text": "is_toronto\nFalse          8.975779\nTrue          10.608108\nName: fb_groups, dtype: float64"
      }
     ],
     "prompt_number": 16
    },
    {
     "cell_type": "heading",
     "level": 1,
     "metadata": {},
     "source": "    Now It's Your Turn"
    },
    {
     "cell_type": "heading",
     "level": 3,
     "metadata": {},
     "source": "What is the average number of single male friends? How does it change for men and women?"
    },
    {
     "cell_type": "code",
     "collapsed": false,
     "input": "dataframe['fb_single_male_friends'].mean()\n",
     "language": "python",
     "metadata": {},
     "outputs": [
      {
       "metadata": {},
       "output_type": "pyout",
       "prompt_number": 17,
       "text": "65.720156555772988"
      }
     ],
     "prompt_number": 17
    },
    {
     "cell_type": "code",
     "collapsed": false,
     "input": "dataframe.groupby('gender_label')['fb_single_male_friends'].mean()",
     "language": "python",
     "metadata": {},
     "outputs": [
      {
       "metadata": {},
       "output_type": "pyout",
       "prompt_number": 18,
       "text": "gender_label\nFemale          58.785714\nMale            70.034921\nName: fb_single_male_friends, dtype: float64"
      }
     ],
     "prompt_number": 18
    },
    {
     "cell_type": "heading",
     "level": 3,
     "metadata": {},
     "source": "Is the average different between people in Toronto and elsewhere?"
    },
    {
     "cell_type": "code",
     "collapsed": false,
     "input": "dataframe.groupby(['gender_label', 'is_toronto'])['fb_single_male_friends'].mean()",
     "language": "python",
     "metadata": {},
     "outputs": [
      {
       "metadata": {},
       "output_type": "pyout",
       "prompt_number": 19,
       "text": "gender_label  is_toronto\nFemale        False         61.765625\n              True          53.176471\nMale          False         71.708075\n              True          68.285714\nName: fb_single_male_friends, dtype: float64"
      }
     ],
     "prompt_number": 19
    },
    {
     "cell_type": "heading",
     "level": 3,
     "metadata": {},
     "source": "Calculate the percentage of single friends that are female for all records"
    },
    {
     "cell_type": "code",
     "collapsed": false,
     "input": "dataframe['percent_female'] = dataframe['fb_single_female_friends'] / (dataframe['fb_single_male_friends'] + dataframe['fb_single_female_friends'])\n",
     "language": "python",
     "metadata": {},
     "outputs": [],
     "prompt_number": 20
    },
    {
     "cell_type": "code",
     "collapsed": false,
     "input": "dataframe.head()",
     "language": "python",
     "metadata": {},
     "outputs": [
      {
       "html": "<div style=\"max-height:1000px;max-width:1500px;overflow:auto;\">\n<table border=\"1\" class=\"dataframe\">\n  <thead>\n    <tr style=\"text-align: right;\">\n      <th></th>\n      <th>first_name</th>\n      <th>birthday</th>\n      <th>gender</th>\n      <th>location</th>\n      <th>relationship_status</th>\n      <th>fb_groups</th>\n      <th>fb_maybe_single_female_friends</th>\n      <th>fb_maybe_single_male_friends</th>\n      <th>fb_movies</th>\n      <th>fb_music</th>\n      <th>fb_schools</th>\n      <th>fb_single_female_friends</th>\n      <th>fb_single_male_friends</th>\n      <th>gender_label</th>\n      <th>is_toronto</th>\n      <th>percent_female</th>\n    </tr>\n    <tr>\n      <th>user_id</th>\n      <th></th>\n      <th></th>\n      <th></th>\n      <th></th>\n      <th></th>\n      <th></th>\n      <th></th>\n      <th></th>\n      <th></th>\n      <th></th>\n      <th></th>\n      <th></th>\n      <th></th>\n      <th></th>\n      <th></th>\n      <th></th>\n    </tr>\n  </thead>\n  <tbody>\n    <tr>\n      <th>103</th>\n      <td>     Sam</td>\n      <td> 4/19/1993</td>\n      <td> 1</td>\n      <td>                NaN</td>\n      <td> Unknown</td>\n      <td>  4</td>\n      <td> 0</td>\n      <td> 0</td>\n      <td> 1</td>\n      <td>  0</td>\n      <td> 2</td>\n      <td>  50</td>\n      <td> 115</td>\n      <td>   Male</td>\n      <td> False</td>\n      <td> 0</td>\n    </tr>\n    <tr>\n      <th>139</th>\n      <td>   Harry</td>\n      <td> 2/21/1992</td>\n      <td> 1</td>\n      <td>                NaN</td>\n      <td> Unknown</td>\n      <td>  5</td>\n      <td> 0</td>\n      <td> 0</td>\n      <td> 3</td>\n      <td>  3</td>\n      <td> 3</td>\n      <td>  44</td>\n      <td> 123</td>\n      <td>   Male</td>\n      <td> False</td>\n      <td> 0</td>\n    </tr>\n    <tr>\n      <th>400</th>\n      <td>  Miguel</td>\n      <td> 5/31/1981</td>\n      <td> 1</td>\n      <td>   Toronto, Ontario</td>\n      <td> Unknown</td>\n      <td> 13</td>\n      <td> 0</td>\n      <td> 0</td>\n      <td> 1</td>\n      <td> 73</td>\n      <td> 2</td>\n      <td> 140</td>\n      <td>  64</td>\n      <td>   Male</td>\n      <td>  True</td>\n      <td> 0</td>\n    </tr>\n    <tr>\n      <th>233</th>\n      <td> Katelyn</td>\n      <td>  2/2/1993</td>\n      <td> 2</td>\n      <td> Kitchener, Ontario</td>\n      <td> Unknown</td>\n      <td>  1</td>\n      <td> 0</td>\n      <td> 0</td>\n      <td> 0</td>\n      <td>  0</td>\n      <td> 1</td>\n      <td>  11</td>\n      <td>   7</td>\n      <td> Female</td>\n      <td> False</td>\n      <td> 0</td>\n    </tr>\n    <tr>\n      <th>381</th>\n      <td>  Caasho</td>\n      <td>  5/6/2000</td>\n      <td> 2</td>\n      <td>                NaN</td>\n      <td> Unknown</td>\n      <td>  0</td>\n      <td> 0</td>\n      <td> 0</td>\n      <td> 0</td>\n      <td>  1</td>\n      <td> 1</td>\n      <td>   1</td>\n      <td>   2</td>\n      <td> Female</td>\n      <td> False</td>\n      <td> 0</td>\n    </tr>\n  </tbody>\n</table>\n</div>",
       "metadata": {},
       "output_type": "pyout",
       "prompt_number": 21,
       "text": "        first_name   birthday  gender            location relationship_status  \\\nuser_id                                                                         \n103            Sam  4/19/1993       1                 NaN             Unknown   \n139          Harry  2/21/1992       1                 NaN             Unknown   \n400         Miguel  5/31/1981       1    Toronto, Ontario             Unknown   \n233        Katelyn   2/2/1993       2  Kitchener, Ontario             Unknown   \n381         Caasho   5/6/2000       2                 NaN             Unknown   \n\n         fb_groups  fb_maybe_single_female_friends  \\\nuser_id                                              \n103              4                               0   \n139              5                               0   \n400             13                               0   \n233              1                               0   \n381              0                               0   \n\n         fb_maybe_single_male_friends  fb_movies  fb_music  fb_schools  \\\nuser_id                                                                  \n103                                 0          1         0           2   \n139                                 0          3         3           3   \n400                                 0          1        73           2   \n233                                 0          0         0           1   \n381                                 0          0         1           1   \n\n         fb_single_female_friends  fb_single_male_friends gender_label  \\\nuser_id                                                                  \n103                            50                     115         Male   \n139                            44                     123         Male   \n400                           140                      64         Male   \n233                            11                       7       Female   \n381                             1                       2       Female   \n\n        is_toronto  percent_female  \nuser_id                             \n103          False               0  \n139          False               0  \n400           True               0  \n233          False               0  \n381          False               0  "
      }
     ],
     "prompt_number": 21
    },
    {
     "cell_type": "code",
     "collapsed": false,
     "input": "dataframe['percent_female'] = dataframe['fb_single_female_friends'].astype(float) * / (dataframe['fb_single_male_friends'] + dataframe['fb_single_female_friends'])\n",
     "language": "python",
     "metadata": {},
     "outputs": [],
     "prompt_number": 22
    },
    {
     "cell_type": "code",
     "collapsed": false,
     "input": "dataframe['percent_female'].max()",
     "language": "python",
     "metadata": {},
     "outputs": [
      {
       "metadata": {},
       "output_type": "pyout",
       "prompt_number": 37,
       "text": "1.0"
      }
     ],
     "prompt_number": 37
    },
    {
     "cell_type": "heading",
     "level": 3,
     "metadata": {},
     "source": "Do people in toronto have a higher proportion of female single friends? What about men vs women?"
    },
    {
     "cell_type": "heading",
     "level": 4,
     "metadata": {},
     "source": "(If you want to connect with single women, who should you ask?)"
    },
    {
     "cell_type": "code",
     "collapsed": false,
     "input": "dataframe['percent_female'].max()",
     "language": "python",
     "metadata": {},
     "outputs": [
      {
       "metadata": {},
       "output_type": "pyout",
       "prompt_number": 24,
       "text": "inf"
      }
     ],
     "prompt_number": 24
    },
    {
     "cell_type": "code",
     "collapsed": false,
     "input": "dataframe['percent_female'].mean()",
     "language": "python",
     "metadata": {},
     "outputs": [
      {
       "metadata": {},
       "output_type": "pyout",
       "prompt_number": 25,
       "text": "inf"
      }
     ],
     "prompt_number": 25
    },
    {
     "cell_type": "code",
     "collapsed": false,
     "input": "dataframe['percent_female'] = dataframe['percent_female'].replace([np.inf, -np.inf], np.nan)",
     "language": "python",
     "metadata": {},
     "outputs": [],
     "prompt_number": 26
    },
    {
     "cell_type": "code",
     "collapsed": false,
     "input": "dataframe['percent_female'].mean()",
     "language": "python",
     "metadata": {},
     "outputs": [
      {
       "metadata": {},
       "output_type": "pyout",
       "prompt_number": 27,
       "text": "0.37526937788015174"
      }
     ],
     "prompt_number": 27
    },
    {
     "cell_type": "code",
     "collapsed": false,
     "input": "to_grouped = dataframe.groupby('is_toronto')",
     "language": "python",
     "metadata": {},
     "outputs": [],
     "prompt_number": 28
    },
    {
     "cell_type": "code",
     "collapsed": false,
     "input": "to_grouped['percent_female'].mean()",
     "language": "python",
     "metadata": {},
     "outputs": [
      {
       "metadata": {},
       "output_type": "pyout",
       "prompt_number": 29,
       "text": "is_toronto\nFalse         0.369266\nTrue          0.382420\nName: percent_female, dtype: float64"
      }
     ],
     "prompt_number": 29
    },
    {
     "cell_type": "code",
     "collapsed": false,
     "input": "mf_grouped = dataframe.groupby('gender_label')",
     "language": "python",
     "metadata": {},
     "outputs": [],
     "prompt_number": 30
    },
    {
     "cell_type": "code",
     "collapsed": false,
     "input": "mf_grouped['percent_female'].mean()",
     "language": "python",
     "metadata": {},
     "outputs": [
      {
       "metadata": {},
       "output_type": "pyout",
       "prompt_number": 31,
       "text": "gender_label\nFemale          0.394680\nMale            0.363905\nName: percent_female, dtype: float64"
      }
     ],
     "prompt_number": 31
    },
    {
     "cell_type": "code",
     "collapsed": false,
     "input": "all_grouped = dataframe.groupby(['is_toronto','gender_label'])\n",
     "language": "python",
     "metadata": {},
     "outputs": [],
     "prompt_number": 32
    },
    {
     "cell_type": "code",
     "collapsed": false,
     "input": "all_grouped['percent_female'].mean()",
     "language": "python",
     "metadata": {},
     "outputs": [
      {
       "metadata": {},
       "output_type": "pyout",
       "prompt_number": 33,
       "text": "is_toronto  gender_label\nFalse       Female          0.393595\n            Male            0.349579\nTrue        Female          0.396771\n            Male            0.376938\nName: percent_female, dtype: float64"
      }
     ],
     "prompt_number": 33
    },
    {
     "cell_type": "heading",
     "level": 3,
     "metadata": {},
     "source": "Which user has the most single friends?"
    },
    {
     "cell_type": "code",
     "collapsed": false,
     "input": "dataframe['single_friends'] = dataframe['fb_single_female_friends'] + dataframe['fb_single_male_friends']",
     "language": "python",
     "metadata": {},
     "outputs": [],
     "prompt_number": 34
    },
    {
     "cell_type": "code",
     "collapsed": false,
     "input": "sorted_df = dataframe.sort('single_friends')",
     "language": "python",
     "metadata": {},
     "outputs": [],
     "prompt_number": 35
    },
    {
     "cell_type": "code",
     "collapsed": false,
     "input": "sorted_df.tail()",
     "language": "python",
     "metadata": {},
     "outputs": [
      {
       "html": "<div style=\"max-height:1000px;max-width:1500px;overflow:auto;\">\n<table border=\"1\" class=\"dataframe\">\n  <thead>\n    <tr style=\"text-align: right;\">\n      <th></th>\n      <th>first_name</th>\n      <th>birthday</th>\n      <th>gender</th>\n      <th>location</th>\n      <th>relationship_status</th>\n      <th>fb_groups</th>\n      <th>fb_maybe_single_female_friends</th>\n      <th>fb_maybe_single_male_friends</th>\n      <th>fb_movies</th>\n      <th>fb_music</th>\n      <th>fb_schools</th>\n      <th>fb_single_female_friends</th>\n      <th>fb_single_male_friends</th>\n      <th>gender_label</th>\n      <th>is_toronto</th>\n      <th>percent_female</th>\n      <th>single_friends</th>\n    </tr>\n    <tr>\n      <th>user_id</th>\n      <th></th>\n      <th></th>\n      <th></th>\n      <th></th>\n      <th></th>\n      <th></th>\n      <th></th>\n      <th></th>\n      <th></th>\n      <th></th>\n      <th></th>\n      <th></th>\n      <th></th>\n      <th></th>\n      <th></th>\n      <th></th>\n      <th></th>\n    </tr>\n  </thead>\n  <tbody>\n    <tr>\n      <th>556</th>\n      <td> Francois</td>\n      <td> 10/5/1994</td>\n      <td> 1</td>\n      <td>           Toronto, Ontario</td>\n      <td> Relationship</td>\n      <td>  0</td>\n      <td> 266</td>\n      <td> 234</td>\n      <td>  0</td>\n      <td> 24</td>\n      <td> 2</td>\n      <td> 205</td>\n      <td> 294</td>\n      <td>   Male</td>\n      <td>  True</td>\n      <td> 0.410822</td>\n      <td> 499</td>\n    </tr>\n    <tr>\n      <th>560</th>\n      <td>    Joana</td>\n      <td> 9/23/1994</td>\n      <td> 2</td>\n      <td>           Toronto, Ontario</td>\n      <td>  Complicated</td>\n      <td>  0</td>\n      <td>   0</td>\n      <td>   0</td>\n      <td>  8</td>\n      <td> 25</td>\n      <td> 0</td>\n      <td> 224</td>\n      <td> 348</td>\n      <td> Female</td>\n      <td>  True</td>\n      <td> 0.391608</td>\n      <td> 572</td>\n    </tr>\n    <tr>\n      <th>465</th>\n      <td>    Okoya</td>\n      <td> 4/19/1992</td>\n      <td> 2</td>\n      <td>        Baltimore, Maryland</td>\n      <td> Relationship</td>\n      <td>  0</td>\n      <td>   0</td>\n      <td>   0</td>\n      <td> 25</td>\n      <td> 25</td>\n      <td> 2</td>\n      <td> 210</td>\n      <td> 374</td>\n      <td> Female</td>\n      <td> False</td>\n      <td> 0.359589</td>\n      <td> 584</td>\n    </tr>\n    <tr>\n      <th>131</th>\n      <td>     Josh</td>\n      <td> 9/25/1992</td>\n      <td> 1</td>\n      <td>          Waterloo, Ontario</td>\n      <td>      Unknown</td>\n      <td> 63</td>\n      <td>   0</td>\n      <td>   0</td>\n      <td>  0</td>\n      <td>  0</td>\n      <td> 2</td>\n      <td> 229</td>\n      <td> 366</td>\n      <td>   Male</td>\n      <td> False</td>\n      <td> 0.384874</td>\n      <td> 595</td>\n    </tr>\n    <tr>\n      <th>156</th>\n      <td> Cristian</td>\n      <td> 7/23/1993</td>\n      <td> 1</td>\n      <td> Pipera, Bucuresti, Romania</td>\n      <td>      Unknown</td>\n      <td> 31</td>\n      <td>   0</td>\n      <td>   0</td>\n      <td>  0</td>\n      <td>  7</td>\n      <td> 2</td>\n      <td> 302</td>\n      <td> 409</td>\n      <td>   Male</td>\n      <td> False</td>\n      <td> 0.424754</td>\n      <td> 711</td>\n    </tr>\n  </tbody>\n</table>\n</div>",
       "metadata": {},
       "output_type": "pyout",
       "prompt_number": 36,
       "text": "        first_name   birthday  gender                    location  \\\nuser_id                                                             \n556       Francois  10/5/1994       1            Toronto, Ontario   \n560          Joana  9/23/1994       2            Toronto, Ontario   \n465          Okoya  4/19/1992       2         Baltimore, Maryland   \n131           Josh  9/25/1992       1           Waterloo, Ontario   \n156       Cristian  7/23/1993       1  Pipera, Bucuresti, Romania   \n\n        relationship_status  fb_groups  fb_maybe_single_female_friends  \\\nuser_id                                                                  \n556            Relationship          0                             266   \n560             Complicated          0                               0   \n465            Relationship          0                               0   \n131                 Unknown         63                               0   \n156                 Unknown         31                               0   \n\n         fb_maybe_single_male_friends  fb_movies  fb_music  fb_schools  \\\nuser_id                                                                  \n556                               234          0        24           2   \n560                                 0          8        25           0   \n465                                 0         25        25           2   \n131                                 0          0         0           2   \n156                                 0          0         7           2   \n\n         fb_single_female_friends  fb_single_male_friends gender_label  \\\nuser_id                                                                  \n556                           205                     294         Male   \n560                           224                     348       Female   \n465                           210                     374       Female   \n131                           229                     366         Male   \n156                           302                     409         Male   \n\n        is_toronto  percent_female  single_friends  \nuser_id                                             \n556           True        0.410822             499  \n560           True        0.391608             572  \n465          False        0.359589             584  \n131          False        0.384874             595  \n156          False        0.424754             711  "
      }
     ],
     "prompt_number": 36
    },
    {
     "cell_type": "code",
     "collapsed": false,
     "input": "",
     "language": "python",
     "metadata": {},
     "outputs": [],
     "prompt_number": 36
    }
   ],
   "metadata": {}
  }
 ]
}